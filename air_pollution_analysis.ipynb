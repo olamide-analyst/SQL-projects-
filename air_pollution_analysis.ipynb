{
 "cells": [
  {
   "cell_type": "code",
   "execution_count": 1,
   "id": "435bec48-bdfa-4839-bd77-e8a28824b1a5",
   "metadata": {},
   "outputs": [],
   "source": [
    " %load_ext sql\n",
    "import pandas as pd"
   ]
  },
  {
   "cell_type": "code",
   "execution_count": 2,
   "id": "ff8f303d-f031-42ef-8182-ff9e9a3a8d8f",
   "metadata": {},
   "outputs": [
    {
     "data": {
      "text/html": [
       "<div>\n",
       "<style scoped>\n",
       "    .dataframe tbody tr th:only-of-type {\n",
       "        vertical-align: middle;\n",
       "    }\n",
       "\n",
       "    .dataframe tbody tr th {\n",
       "        vertical-align: top;\n",
       "    }\n",
       "\n",
       "    .dataframe thead th {\n",
       "        text-align: right;\n",
       "    }\n",
       "</style>\n",
       "<table border=\"1\" class=\"dataframe\">\n",
       "  <thead>\n",
       "    <tr style=\"text-align: right;\">\n",
       "      <th></th>\n",
       "      <th>Date</th>\n",
       "      <th>Location</th>\n",
       "      <th>PM2.5 (µg/m³)</th>\n",
       "      <th>CO (ppm)</th>\n",
       "      <th>Temperature (°C)</th>\n",
       "      <th>Wind Speed (km/h)</th>\n",
       "    </tr>\n",
       "  </thead>\n",
       "  <tbody>\n",
       "    <tr>\n",
       "      <th>0</th>\n",
       "      <td>2025-05-01</td>\n",
       "      <td>IKEJA</td>\n",
       "      <td>44.6</td>\n",
       "      <td>1.68</td>\n",
       "      <td>34.5</td>\n",
       "      <td>5.3</td>\n",
       "    </tr>\n",
       "    <tr>\n",
       "      <th>1</th>\n",
       "      <td>2025-05-01</td>\n",
       "      <td>LEKKI</td>\n",
       "      <td>67.8</td>\n",
       "      <td>0.64</td>\n",
       "      <td>34.6</td>\n",
       "      <td>9.6</td>\n",
       "    </tr>\n",
       "    <tr>\n",
       "      <th>2</th>\n",
       "      <td>2025-05-01</td>\n",
       "      <td>SURULERE</td>\n",
       "      <td>44.2</td>\n",
       "      <td>1.68</td>\n",
       "      <td>30.6</td>\n",
       "      <td>17.0</td>\n",
       "    </tr>\n",
       "    <tr>\n",
       "      <th>3</th>\n",
       "      <td>2025-05-01</td>\n",
       "      <td>YABA</td>\n",
       "      <td>116.8</td>\n",
       "      <td>2.08</td>\n",
       "      <td>28.0</td>\n",
       "      <td>13.1</td>\n",
       "    </tr>\n",
       "    <tr>\n",
       "      <th>4</th>\n",
       "      <td>2025-05-01</td>\n",
       "      <td>APAPA</td>\n",
       "      <td>80.0</td>\n",
       "      <td>1.06</td>\n",
       "      <td>28.8</td>\n",
       "      <td>5.0</td>\n",
       "    </tr>\n",
       "  </tbody>\n",
       "</table>\n",
       "</div>"
      ],
      "text/plain": [
       "         Date  Location  PM2.5 (µg/m³)  CO (ppm)  Temperature (°C)  \\\n",
       "0  2025-05-01     IKEJA           44.6      1.68              34.5   \n",
       "1  2025-05-01     LEKKI           67.8      0.64              34.6   \n",
       "2  2025-05-01  SURULERE           44.2      1.68              30.6   \n",
       "3  2025-05-01      YABA          116.8      2.08              28.0   \n",
       "4  2025-05-01     APAPA           80.0      1.06              28.8   \n",
       "\n",
       "   Wind Speed (km/h)  \n",
       "0                5.3  \n",
       "1                9.6  \n",
       "2               17.0  \n",
       "3               13.1  \n",
       "4                5.0  "
      ]
     },
     "execution_count": 2,
     "metadata": {},
     "output_type": "execute_result"
    }
   ],
   "source": [
    "# Load the cleaned CSV\n",
    "df = pd.read_csv(r'C:\\Users\\Olamide\\Downloads\\cleaned_air_pollution_lagos.csv')\n",
    "df.head(5)"
   ]
  },
  {
   "cell_type": "code",
   "execution_count": 3,
   "id": "542a2dff-8220-483c-8a2a-3b5ec910510a",
   "metadata": {},
   "outputs": [],
   "source": [
    "# Import the function needed to connect Python to an SQLite database\n",
    "from sqlalchemy import create_engine\n",
    "\n",
    "# Create a connection to a SQLite database file named 'air_pollution.sqlite'\n",
    "file_engine = create_engine('sqlite:///air_pollution.sqlite')"
   ]
  },
  {
   "cell_type": "code",
   "execution_count": 4,
   "id": "1f557143-2fe1-4d3a-8896-a4e236028199",
   "metadata": {},
   "outputs": [
    {
     "data": {
      "text/plain": [
       "59"
      ]
     },
     "execution_count": 4,
     "metadata": {},
     "output_type": "execute_result"
    }
   ],
   "source": [
    "# Save df as a table named 'air_pollution' in the SQLite database file\n",
    "df.to_sql('air_pollution', con=file_engine, index=False, if_exists='replace')"
   ]
  },
  {
   "cell_type": "code",
   "execution_count": 5,
   "id": "b662b7b0-56f6-4a9f-b694-eb3609307f7b",
   "metadata": {},
   "outputs": [],
   "source": [
    "# Connect to the 'air_pollution.sqlite' database \n",
    "%sql sqlite:///air_pollution.sqlite"
   ]
  },
  {
   "cell_type": "code",
   "execution_count": 6,
   "id": "8530380b-944e-4271-9dbc-2dee905762a9",
   "metadata": {},
   "outputs": [
    {
     "name": "stdout",
     "output_type": "stream",
     "text": [
      " * sqlite:///air_pollution.sqlite\n",
      "Done.\n"
     ]
    },
    {
     "data": {
      "text/html": [
       "<table>\n",
       "    <thead>\n",
       "        <tr>\n",
       "            <th>Date</th>\n",
       "            <th>Location</th>\n",
       "            <th>PM2.5 (µg/m³)</th>\n",
       "            <th>CO (ppm)</th>\n",
       "            <th>Temperature (°C)</th>\n",
       "            <th>Wind Speed (km/h)</th>\n",
       "        </tr>\n",
       "    </thead>\n",
       "    <tbody>\n",
       "        <tr>\n",
       "            <td>2025-05-01</td>\n",
       "            <td>IKEJA</td>\n",
       "            <td>44.6</td>\n",
       "            <td>1.68</td>\n",
       "            <td>34.5</td>\n",
       "            <td>5.3</td>\n",
       "        </tr>\n",
       "        <tr>\n",
       "            <td>2025-05-01</td>\n",
       "            <td>LEKKI</td>\n",
       "            <td>67.8</td>\n",
       "            <td>0.64</td>\n",
       "            <td>34.6</td>\n",
       "            <td>9.6</td>\n",
       "        </tr>\n",
       "        <tr>\n",
       "            <td>2025-05-01</td>\n",
       "            <td>SURULERE</td>\n",
       "            <td>44.2</td>\n",
       "            <td>1.68</td>\n",
       "            <td>30.6</td>\n",
       "            <td>17.0</td>\n",
       "        </tr>\n",
       "        <tr>\n",
       "            <td>2025-05-01</td>\n",
       "            <td>YABA</td>\n",
       "            <td>116.8</td>\n",
       "            <td>2.08</td>\n",
       "            <td>28.0</td>\n",
       "            <td>13.1</td>\n",
       "        </tr>\n",
       "        <tr>\n",
       "            <td>2025-05-01</td>\n",
       "            <td>APAPA</td>\n",
       "            <td>80.0</td>\n",
       "            <td>1.06</td>\n",
       "            <td>28.8</td>\n",
       "            <td>5.0</td>\n",
       "        </tr>\n",
       "    </tbody>\n",
       "</table>"
      ],
      "text/plain": [
       "[('2025-05-01', 'IKEJA', 44.6, 1.68, 34.5, 5.3),\n",
       " ('2025-05-01', 'LEKKI', 67.8, 0.64, 34.6, 9.6),\n",
       " ('2025-05-01', 'SURULERE', 44.2, 1.68, 30.6, 17.0),\n",
       " ('2025-05-01', 'YABA', 116.8, 2.08, 28.0, 13.1),\n",
       " ('2025-05-01', 'APAPA', 80.0, 1.06, 28.8, 5.0)]"
      ]
     },
     "execution_count": 6,
     "metadata": {},
     "output_type": "execute_result"
    }
   ],
   "source": [
    "%%sql\n",
    "SELECT *\n",
    "FROM air_pollution\n",
    "LIMIT 5;"
   ]
  },
  {
   "cell_type": "markdown",
   "id": "8ed0e013-4eab-4554-90ea-81f61c5957df",
   "metadata": {},
   "source": [
    "# 1. Which location had the highest average PM2.5 level?"
   ]
  },
  {
   "cell_type": "markdown",
   "id": "c583ec1d-f8a6-490a-9f53-fa2b4e660752",
   "metadata": {},
   "source": [
    "**PM2.5 is a fine particulate matter in the air, small enough to enter lungs and blood. High PM2.5 = more air pollution.**"
   ]
  },
  {
   "cell_type": "markdown",
   "id": "d3b46dbf-1b15-4f50-9950-eafa5237a6aa",
   "metadata": {},
   "source": [
    "I calculated the average PM2.5 level for each location, rounded to 2 decimal places. Then sort them in descending order to find the most polluted areas"
   ]
  },
  {
   "cell_type": "code",
   "execution_count": 10,
   "id": "86249050-6e2d-4550-8a31-653cdc3bb57b",
   "metadata": {},
   "outputs": [
    {
     "name": "stdout",
     "output_type": "stream",
     "text": [
      " * sqlite:///air_pollution.sqlite\n",
      "Done.\n"
     ]
    },
    {
     "data": {
      "text/html": [
       "<table>\n",
       "    <thead>\n",
       "        <tr>\n",
       "            <th>Location</th>\n",
       "            <th>avg_pm25</th>\n",
       "        </tr>\n",
       "    </thead>\n",
       "    <tbody>\n",
       "        <tr>\n",
       "            <td>YABA</td>\n",
       "            <td>83.38</td>\n",
       "        </tr>\n",
       "        <tr>\n",
       "            <td>IKEJA</td>\n",
       "            <td>74.96</td>\n",
       "        </tr>\n",
       "        <tr>\n",
       "            <td>SURULERE</td>\n",
       "            <td>67.85</td>\n",
       "        </tr>\n",
       "        <tr>\n",
       "            <td>LEKKI</td>\n",
       "            <td>66.1</td>\n",
       "        </tr>\n",
       "        <tr>\n",
       "            <td>AJAH</td>\n",
       "            <td>62.91</td>\n",
       "        </tr>\n",
       "        <tr>\n",
       "            <td>APAPA</td>\n",
       "            <td>62.5</td>\n",
       "        </tr>\n",
       "    </tbody>\n",
       "</table>"
      ],
      "text/plain": [
       "[('YABA', 83.38),\n",
       " ('IKEJA', 74.96),\n",
       " ('SURULERE', 67.85),\n",
       " ('LEKKI', 66.1),\n",
       " ('AJAH', 62.91),\n",
       " ('APAPA', 62.5)]"
      ]
     },
     "execution_count": 10,
     "metadata": {},
     "output_type": "execute_result"
    }
   ],
   "source": [
    "%%sql\n",
    "SELECT \n",
    "    Location, \n",
    "    ROUND(AVG([PM2.5 (µg/m³)]), 2) AS avg_pm25\n",
    "FROM air_pollution\n",
    "GROUP BY Location\n",
    "ORDER BY avg_pm25 DESC;"
   ]
  },
  {
   "cell_type": "markdown",
   "id": "e1538863-cfc9-418c-b03a-84f5c1a5e036",
   "metadata": {},
   "source": [
    "- **YABA has the highest average PM2.5 level** "
   ]
  },
  {
   "cell_type": "markdown",
   "id": "40ce5b68-68be-4fae-9b49-468fd287c84d",
   "metadata": {},
   "source": [
    "# 2. Which locations consistently stay below the WHO PM2.5 limit (15 µg/m³)?"
   ]
  },
  {
   "cell_type": "markdown",
   "id": "23147d29-f799-4400-a84a-0887f4b0d159",
   "metadata": {},
   "source": [
    "**According to the World Health Organization (WHO), PM2.5 levels above 15 µg/m³ are considered unsafe.**"
   ]
  },
  {
   "cell_type": "markdown",
   "id": "eb8ffd18-7b38-41c7-8a1e-a4318d79affd",
   "metadata": {},
   "source": [
    "I Grouped the data by location and return only those where the highest PM2.5 reading is less than 15 µg/m³.\n"
   ]
  },
  {
   "cell_type": "code",
   "execution_count": 15,
   "id": "85af057d-255f-4eb9-a84c-e40cb9c675b3",
   "metadata": {},
   "outputs": [
    {
     "name": "stdout",
     "output_type": "stream",
     "text": [
      " * sqlite:///air_pollution.sqlite\n",
      "Done.\n"
     ]
    },
    {
     "data": {
      "text/html": [
       "<table>\n",
       "    <thead>\n",
       "        <tr>\n",
       "            <th>Location</th>\n",
       "            <th>PM2.5 (µg/m³)</th>\n",
       "        </tr>\n",
       "    </thead>\n",
       "    <tbody>\n",
       "    </tbody>\n",
       "</table>"
      ],
      "text/plain": [
       "[]"
      ]
     },
     "execution_count": 15,
     "metadata": {},
     "output_type": "execute_result"
    }
   ],
   "source": [
    "%%sql\n",
    "SELECT\n",
    "    Location, \n",
    "    [PM2.5 (µg/m³)]\n",
    "FROM air_pollution\n",
    "GROUP BY Location\n",
    "HAVING MAX([PM2.5 (µg/m³)]) < 15;"
   ]
  },
  {
   "cell_type": "markdown",
   "id": "585f7eb3-699d-4b0e-a456-b5465f9f4069",
   "metadata": {},
   "source": [
    "- **None of the locations in this Lagos dataset consistently stayed within WHO safe limits** "
   ]
  },
  {
   "cell_type": "markdown",
   "id": "ee0b1d32-9073-4722-8883-dbb5e313c65b",
   "metadata": {},
   "source": [
    "# 3. What’s the average CO level across all locations?"
   ]
  },
  {
   "cell_type": "markdown",
   "id": "f791de31-94e3-4ad7-aefc-01ab2ebda792",
   "metadata": {},
   "source": [
    "**Carbon monoxide (CO) is a gas mostly from cars and generators. According to WHO and EPA: < 9 ppm is safe**"
   ]
  },
  {
   "cell_type": "markdown",
   "id": "89792c77-80b1-4b99-9893-64d7f4277056",
   "metadata": {},
   "source": [
    "I Calculated the average CO level (in ppm) across all locations, rounded to 2d.p"
   ]
  },
  {
   "cell_type": "code",
   "execution_count": 20,
   "id": "d11db897-99aa-4639-a4cb-3e8528b3dd8c",
   "metadata": {},
   "outputs": [
    {
     "name": "stdout",
     "output_type": "stream",
     "text": [
      " * sqlite:///air_pollution.sqlite\n",
      "Done.\n"
     ]
    },
    {
     "data": {
      "text/html": [
       "<table>\n",
       "    <thead>\n",
       "        <tr>\n",
       "            <th>average_co</th>\n",
       "        </tr>\n",
       "    </thead>\n",
       "    <tbody>\n",
       "        <tr>\n",
       "            <td>1.52</td>\n",
       "        </tr>\n",
       "    </tbody>\n",
       "</table>"
      ],
      "text/plain": [
       "[(1.52,)]"
      ]
     },
     "execution_count": 20,
     "metadata": {},
     "output_type": "execute_result"
    }
   ],
   "source": [
    "%%sql\n",
    "SELECT \n",
    "    ROUND(AVG([CO (ppm)]), 2) AS average_co\n",
    "FROM air_pollution;"
   ]
  },
  {
   "cell_type": "markdown",
   "id": "ae35022f-4a8b-49a5-a964-59dfecb2b886",
   "metadata": {},
   "source": [
    "- **A CO level of 1.52 ppm is generally considered low and safe.**"
   ]
  },
  {
   "cell_type": "markdown",
   "id": "10fa453b-5ac0-49c8-8321-965750872cc1",
   "metadata": {},
   "source": [
    "# 4. Do higher temperatures correlate with higher PM2.5 levels?"
   ]
  },
  {
   "cell_type": "markdown",
   "id": "a71349b2-36f6-4513-9404-d3c99121d86c",
   "metadata": {},
   "source": [
    "**Meaning: When the temperature increases, do PM2.5 levels also go up?**"
   ]
  },
  {
   "cell_type": "markdown",
   "id": "983903c2-1b0d-4ad7-ba63-b8448366ab93",
   "metadata": {},
   "source": [
    "I Grouped temperatures into 3 categories (Cool, Warm, Hot). Then calculated the average PM2.5 level in each group to look for a correlation \n"
   ]
  },
  {
   "cell_type": "code",
   "execution_count": 25,
   "id": "42b2e14e-0048-4b31-9ffc-f3f70203045f",
   "metadata": {},
   "outputs": [
    {
     "name": "stdout",
     "output_type": "stream",
     "text": [
      " * sqlite:///air_pollution.sqlite\n",
      "Done.\n"
     ]
    },
    {
     "data": {
      "text/html": [
       "<table>\n",
       "    <thead>\n",
       "        <tr>\n",
       "            <th>temp_category</th>\n",
       "            <th>readings_count</th>\n",
       "            <th>avg_pm25</th>\n",
       "        </tr>\n",
       "    </thead>\n",
       "    <tbody>\n",
       "        <tr>\n",
       "            <td>Warm (27–30°C)</td>\n",
       "            <td>16</td>\n",
       "            <td>80.55</td>\n",
       "        </tr>\n",
       "        <tr>\n",
       "            <td>Hot (&gt;30°C)</td>\n",
       "            <td>43</td>\n",
       "            <td>65.7</td>\n",
       "        </tr>\n",
       "    </tbody>\n",
       "</table>"
      ],
      "text/plain": [
       "[('Warm (27–30°C)', 16, 80.55), ('Hot (>30°C)', 43, 65.7)]"
      ]
     },
     "execution_count": 25,
     "metadata": {},
     "output_type": "execute_result"
    }
   ],
   "source": [
    "%%sql\n",
    "WITH temp_groups AS (\n",
    "    SELECT\n",
    "        CASE\n",
    "            WHEN [Temperature (°C)] < 27 THEN 'Cool (<27°C)'\n",
    "            WHEN [Temperature (°C)] BETWEEN 27 AND 30 THEN 'Warm (27–30°C)'\n",
    "            ELSE 'Hot (>30°C)'\n",
    "        END AS temp_category,\n",
    "        [PM2.5 (µg/m³)]\n",
    "    FROM air_pollution\n",
    ")\n",
    "\n",
    "SELECT \n",
    "    temp_category,\n",
    "    COUNT(*) AS readings_count,\n",
    "    ROUND(AVG([PM2.5 (µg/m³)]), 2) AS avg_pm25\n",
    "FROM temp_groups\n",
    "GROUP BY temp_category\n",
    "ORDER BY avg_pm25 DESC;"
   ]
  },
  {
   "cell_type": "markdown",
   "id": "bb97aa35-861f-42b9-9a3f-3307635ddf2a",
   "metadata": {},
   "source": [
    "- **The warm category has higher PM2.5 levels than the hot category. So, in this dataset, PM2.5 levels do not correlate with temperature.**\n"
   ]
  },
  {
   "cell_type": "markdown",
   "id": "1fa5c860-c0e3-4e65-bf28-9fcbdc83d7fd",
   "metadata": {},
   "source": [
    "# 5. Rank all locations by average pollution level"
   ]
  },
  {
   "cell_type": "markdown",
   "id": "e3c4c8c6-efe8-4328-a51a-8be6e4704fe5",
   "metadata": {},
   "source": [
    "**Find the average of PM2.5 and CO for each location, then rank them.**"
   ]
  },
  {
   "cell_type": "markdown",
   "id": "1a17a0e7-0539-489f-ac21-e8eed89d70ac",
   "metadata": {},
   "source": [
    "I added the averages of PM2.5 and CO and found the average to compare pollution levels across locations. While the units are different and this isn't a scientifically accurate combination, it works for general ranking."
   ]
  },
  {
   "cell_type": "code",
   "execution_count": 30,
   "id": "fd0c7da8-a793-4571-99a9-48491bf8b571",
   "metadata": {},
   "outputs": [
    {
     "name": "stdout",
     "output_type": "stream",
     "text": [
      " * sqlite:///air_pollution.sqlite\n",
      "Done.\n"
     ]
    },
    {
     "data": {
      "text/html": [
       "<table>\n",
       "    <thead>\n",
       "        <tr>\n",
       "            <th>Location</th>\n",
       "            <th>avg_pm25</th>\n",
       "            <th>avg_co</th>\n",
       "            <th>avg_pollution_score</th>\n",
       "            <th>pollution_rank</th>\n",
       "        </tr>\n",
       "    </thead>\n",
       "    <tbody>\n",
       "        <tr>\n",
       "            <td>YABA</td>\n",
       "            <td>83.38</td>\n",
       "            <td>1.66</td>\n",
       "            <td>42.52</td>\n",
       "            <td>1</td>\n",
       "        </tr>\n",
       "        <tr>\n",
       "            <td>IKEJA</td>\n",
       "            <td>74.96</td>\n",
       "            <td>1.5</td>\n",
       "            <td>38.23</td>\n",
       "            <td>2</td>\n",
       "        </tr>\n",
       "        <tr>\n",
       "            <td>SURULERE</td>\n",
       "            <td>67.85</td>\n",
       "            <td>1.61</td>\n",
       "            <td>34.73</td>\n",
       "            <td>3</td>\n",
       "        </tr>\n",
       "        <tr>\n",
       "            <td>LEKKI</td>\n",
       "            <td>66.1</td>\n",
       "            <td>1.34</td>\n",
       "            <td>33.72</td>\n",
       "            <td>4</td>\n",
       "        </tr>\n",
       "        <tr>\n",
       "            <td>AJAH</td>\n",
       "            <td>62.91</td>\n",
       "            <td>1.37</td>\n",
       "            <td>32.14</td>\n",
       "            <td>5</td>\n",
       "        </tr>\n",
       "        <tr>\n",
       "            <td>APAPA</td>\n",
       "            <td>62.5</td>\n",
       "            <td>1.62</td>\n",
       "            <td>32.06</td>\n",
       "            <td>6</td>\n",
       "        </tr>\n",
       "    </tbody>\n",
       "</table>"
      ],
      "text/plain": [
       "[('YABA', 83.38, 1.66, 42.52, 1),\n",
       " ('IKEJA', 74.96, 1.5, 38.23, 2),\n",
       " ('SURULERE', 67.85, 1.61, 34.73, 3),\n",
       " ('LEKKI', 66.1, 1.34, 33.72, 4),\n",
       " ('AJAH', 62.91, 1.37, 32.14, 5),\n",
       " ('APAPA', 62.5, 1.62, 32.06, 6)]"
      ]
     },
     "execution_count": 30,
     "metadata": {},
     "output_type": "execute_result"
    }
   ],
   "source": [
    "%%sql\n",
    "WITH avg_pollution AS (\n",
    "    SELECT \n",
    "        Location,\n",
    "        ROUND(AVG([PM2.5 (µg/m³)]), 2) AS avg_pm25,\n",
    "        ROUND(AVG([CO (ppm)]), 2) AS avg_co,\n",
    "        ROUND((AVG([PM2.5 (µg/m³)]) + AVG([CO (ppm)])) / 2, 2) AS avg_pollution_score\n",
    "    FROM air_pollution\n",
    "    GROUP BY Location\n",
    "),\n",
    "ranked_pollution AS (\n",
    "    SELECT *,\n",
    "        DENSE_RANK() OVER (ORDER BY avg_pollution_score DESC) AS pollution_rank\n",
    "    FROM avg_pollution\n",
    ")\n",
    "\n",
    "SELECT *\n",
    "FROM ranked_pollution;"
   ]
  },
  {
   "cell_type": "code",
   "execution_count": null,
   "id": "96d16ae1-edd2-4767-bb59-d0be6033eaea",
   "metadata": {},
   "outputs": [],
   "source": []
  }
 ],
 "metadata": {
  "kernelspec": {
   "display_name": "Python 3 (ipykernel)",
   "language": "python",
   "name": "python3"
  },
  "language_info": {
   "codemirror_mode": {
    "name": "ipython",
    "version": 3
   },
   "file_extension": ".py",
   "mimetype": "text/x-python",
   "name": "python",
   "nbconvert_exporter": "python",
   "pygments_lexer": "ipython3",
   "version": "3.12.4"
  }
 },
 "nbformat": 4,
 "nbformat_minor": 5
}
